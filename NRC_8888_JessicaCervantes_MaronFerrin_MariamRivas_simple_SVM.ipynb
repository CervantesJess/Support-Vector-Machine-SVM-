{
  "nbformat": 4,
  "nbformat_minor": 5,
  "metadata": {
    "kernelspec": {
      "display_name": "Python 3 (ipykernel)",
      "language": "python",
      "name": "python3"
    },
    "language_info": {
      "codemirror_mode": {
        "name": "ipython",
        "version": 3
      },
      "file_extension": ".py",
      "mimetype": "text/x-python",
      "name": "python",
      "nbconvert_exporter": "python",
      "pygments_lexer": "ipython3",
      "version": "3.9.7"
    },
    "colab": {
      "name": "NRC_8888_JessicaCervantes_MaronFerrin_MariamRivas_simple_SVM.ipynb",
      "provenance": []
    }
  },
  "cells": [
    {
      "cell_type": "markdown",
      "metadata": {
        "id": "bfb47238"
      },
      "source": [
        "# Support Vector Machine (SVM)"
      ],
      "id": "bfb47238"
    },
    {
      "cell_type": "code",
      "metadata": {
        "id": "e1b8d36c"
      },
      "source": [
        "# import the necessary models\n",
        "\n",
        "from sklearn import datasets\n",
        "from sklearn.model_selection import train_test_split\n",
        "from sklearn import svm\n",
        "from sklearn import metrics"
      ],
      "id": "e1b8d36c",
      "execution_count": null,
      "outputs": []
    },
    {
      "cell_type": "code",
      "metadata": {
        "colab": {
          "base_uri": "https://localhost:8080/"
        },
        "id": "de508e96",
        "outputId": "d38f7c38-eb0e-4233-be59-cf02a6a72a16"
      },
      "source": [
        "# load the dataset\n",
        "df = datasets.load_wine()\n",
        "\n",
        "# print the names of the features\n",
        "print(\"Features:\\n\", df.feature_names)\n",
        "\n",
        "# print the label type of cancer\n",
        "print(\"Labels:\\n\", df.target_names)\n",
        "\n",
        "# print shape\n",
        "print(\"Shape:\\n\", df.data.shape)\n",
        "\n",
        "# print the top 5 records\n",
        "print(\"Top five records:\\n\", df.data[0:5])"
      ],
      "id": "de508e96",
      "execution_count": null,
      "outputs": [
        {
          "output_type": "stream",
          "name": "stdout",
          "text": [
            "Features:\n",
            " ['alcohol', 'malic_acid', 'ash', 'alcalinity_of_ash', 'magnesium', 'total_phenols', 'flavanoids', 'nonflavanoid_phenols', 'proanthocyanins', 'color_intensity', 'hue', 'od280/od315_of_diluted_wines', 'proline']\n",
            "Labels:\n",
            " ['class_0' 'class_1' 'class_2']\n",
            "Shape:\n",
            " (178, 13)\n",
            "Top five records:\n",
            " [[1.423e+01 1.710e+00 2.430e+00 1.560e+01 1.270e+02 2.800e+00 3.060e+00\n",
            "  2.800e-01 2.290e+00 5.640e+00 1.040e+00 3.920e+00 1.065e+03]\n",
            " [1.320e+01 1.780e+00 2.140e+00 1.120e+01 1.000e+02 2.650e+00 2.760e+00\n",
            "  2.600e-01 1.280e+00 4.380e+00 1.050e+00 3.400e+00 1.050e+03]\n",
            " [1.316e+01 2.360e+00 2.670e+00 1.860e+01 1.010e+02 2.800e+00 3.240e+00\n",
            "  3.000e-01 2.810e+00 5.680e+00 1.030e+00 3.170e+00 1.185e+03]\n",
            " [1.437e+01 1.950e+00 2.500e+00 1.680e+01 1.130e+02 3.850e+00 3.490e+00\n",
            "  2.400e-01 2.180e+00 7.800e+00 8.600e-01 3.450e+00 1.480e+03]\n",
            " [1.324e+01 2.590e+00 2.870e+00 2.100e+01 1.180e+02 2.800e+00 2.690e+00\n",
            "  3.900e-01 1.820e+00 4.320e+00 1.040e+00 2.930e+00 7.350e+02]]\n"
          ]
        }
      ]
    },
    {
      "cell_type": "code",
      "metadata": {
        "id": "72249ecf"
      },
      "source": [
        "# split dataset into 70% training and 30% test - select records randomly\n",
        "X_train, X_test, y_train, y_test = train_test_split(df.data, df.target, test_size=0.3, random_state=109)"
      ],
      "id": "72249ecf",
      "execution_count": null,
      "outputs": []
    },
    {
      "cell_type": "code",
      "metadata": {
        "id": "84acdc55"
      },
      "source": [
        "# create a svm classifier with linear kernel\n",
        "clf = svm.SVC(kernel='linear')\n",
        "\n",
        "# train the model\n",
        "clf.fit(X_train, y_train)\n",
        "\n",
        "# predict the response for the test dataset\n",
        "y_pred = clf.predict(X_test)"
      ],
      "id": "84acdc55",
      "execution_count": null,
      "outputs": []
    },
    {
      "cell_type": "code",
      "metadata": {
        "colab": {
          "base_uri": "https://localhost:8080/"
        },
        "id": "4adfc2f2",
        "outputId": "d3aee898-4a98-451f-fc93-e4b168586a44"
      },
      "source": [
        "### Evaluate the model\n",
        "\n",
        "# Model Accuracy: how often is the classifier correct?\n",
        "print(\"Accuracy:\", metrics.accuracy_score(y_test, y_pred))\n",
        "\n",
        "# Model Precision: what percentage of positive tuples are labeled as such?\n",
        "print(\"Precision:\", metrics.precision_score(y_test, y_pred, average='macro'))\n",
        "\n",
        "# Model Recall: what percentage of positive tuples are labelled as such?\n",
        "print(\"Recall:\", metrics.recall_score(y_test, y_pred, average='macro'))\n"
      ],
      "id": "4adfc2f2",
      "execution_count": null,
      "outputs": [
        {
          "output_type": "stream",
          "name": "stdout",
          "text": [
            "Accuracy: 0.9259259259259259\n",
            "Precision: 0.9361111111111112\n",
            "Recall: 0.9298245614035089\n"
          ]
        }
      ]
    }
  ]
}